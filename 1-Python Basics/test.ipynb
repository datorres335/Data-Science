{
 "cells": [
  {
   "cell_type": "code",
   "execution_count": 1,
   "id": "a24fec7f",
   "metadata": {},
   "outputs": [
    {
     "data": {
      "text/plain": [
       "2"
      ]
     },
     "execution_count": 1,
     "metadata": {},
     "output_type": "execute_result"
    }
   ],
   "source": [
    "1+1"
   ]
  },
  {
   "cell_type": "markdown",
   "id": "c65a5944",
   "metadata": {},
   "source": [
    "## Quick way to execute cells is to press Shift + Enter\n",
    "### double click markdown cells to edit"
   ]
  },
  {
   "cell_type": "code",
   "execution_count": 2,
   "id": "8fe4a6b8",
   "metadata": {},
   "outputs": [
    {
     "name": "stdout",
     "output_type": "stream",
     "text": [
      "Hello World\n"
     ]
    }
   ],
   "source": [
    "print('Hello World')"
   ]
  },
  {
   "cell_type": "markdown",
   "id": "14dc468b",
   "metadata": {},
   "source": [
    "# Markdown Formatting Examples\n",
    "\n",
    "## Headers (Level 2)\n",
    "### Headers (Level 3)\n",
    "\n",
    "**Bold text** and *italic text*\n",
    "\n",
    "### Lists:\n",
    "Unordered list:\n",
    "- Item 1\n",
    "- Item 2\n",
    "  - Sub-item A\n",
    "  - Sub-item B\n",
    "\n",
    "Numbered list:\n",
    "1. First item\n",
    "2. Second item\n",
    "\n",
    "### Code Examples:\n",
    "Inline code: `print('Hello World')`\n",
    "\n",
    "Code block:\n",
    "```python\n",
    "def greet(name):\n",
    "    return f'Hello, {name}!'\n",
    "```\n",
    "\n",
    "### Links and Images:\n",
    "[Visit Python.org](https://www.python.org)\n",
    "\n",
    "### Tables:\n",
    "| Column 1 | Column 2 |\n",
    "|----------|----------|\n",
    "| Cell 1   | Cell 2   |\n",
    "| Cell 3   | Cell 4   |\n",
    "\n",
    "### Blockquotes:\n",
    "> This is the first line of the blockquote.\n",
    "> And here is a second line with different content!\n",
    "\n",
    "### Horizontal Rule:\n",
    "---\n",
    "\n",
    "### Mathematical Equations:\n",
    "Inline equation: $E = mc^2$\n",
    "\n",
    "Block equation:\n",
    "$$\n",
    "f(x) = \\int_{-\\infty}^\\infty e^{-x^2} dx\n",
    "$$"
   ]
  },
  {
   "cell_type": "markdown",
   "id": "4f3d151c",
   "metadata": {},
   "source": [
    "## Set Difference in Python\n",
    "\n",
    "In Python, the difference between two sets can be found using:\n",
    "1. The `-` operator\n",
    "2. The `difference()` method\n",
    "\n",
    "The difference operation returns a new set containing elements that exist in the first set but not in the second set."
   ]
  },
  {
   "cell_type": "code",
   "execution_count": 7,
   "id": "2974d6f1",
   "metadata": {},
   "outputs": [
    {
     "name": "stdout",
     "output_type": "stream",
     "text": [
      "Set A: {'orange', 'mango', 'banana', 'apple'}\n",
      "Set B: {'grape', 'mango', 'banana', 'pineapple'}\n",
      "\n",
      "Difference using - operator:\n",
      "A - B: {'orange', 'apple'}\n",
      "\n",
      "Difference using difference() method:\n",
      "A.difference(B): {'orange', 'apple'}\n",
      "\n",
      "Reverse difference (B - A):\n",
      "B - A: {'grape', 'pineapple'}\n"
     ]
    }
   ],
   "source": [
    "# Create two sets with some common and unique elements\n",
    "fruits_a = {'apple', 'banana', 'orange', 'mango'}\n",
    "fruits_b = {'banana', 'mango', 'pineapple', 'grape'}\n",
    "\n",
    "# Display the original sets\n",
    "print('Set A:', fruits_a)\n",
    "print('Set B:', fruits_b)\n",
    "\n",
    "# Using the - operator\n",
    "print('\\nDifference using - operator:')\n",
    "print('A - B:', fruits_a - fruits_b)  # Elements in A but not in B\n",
    "\n",
    "# Using the difference() method\n",
    "print('\\nDifference using difference() method:')\n",
    "print('A.difference(B):', fruits_a.difference(fruits_b))  # Same as A - B\n",
    "\n",
    "# Show that order matters\n",
    "print('\\nReverse difference (B - A):')\n",
    "print('B - A:', fruits_b - fruits_a)  # Elements in B but not in A"
   ]
  },
  {
   "cell_type": "markdown",
   "id": "b3f3ca02",
   "metadata": {},
   "source": [
    "## Python Dictionary Keys\n",
    "\n",
    "In Python, dictionary keys can be of various types, not just strings. The main requirement is that the key must be *immutable*. Common types that can be used as dictionary keys include:\n",
    "- Strings\n",
    "- Numbers (integers, floats)\n",
    "- Tuples (if they contain only immutable elements)\n",
    "- Frozensets\n",
    "\n",
    "Mutable types like lists, sets, and dictionaries *cannot* be used as dictionary keys."
   ]
  },
  {
   "cell_type": "code",
   "execution_count": null,
   "id": "dc26b3f0",
   "metadata": {},
   "outputs": [],
   "source": [
    "# Dictionary with different types of keys\n",
    "my_dict = {\n",
    "    'string_key': 'value1',      # String key\n",
    "    42: 'value2',               # Integer key\n",
    "    3.14: 'value3',             # Float key\n",
    "    (1, 2): 'value4',           # Tuple key\n",
    "    frozenset([1, 2]): 'value5' # Frozenset key\n",
    "}\n",
    "\n",
    "# Print the dictionary and the types of keys\n",
    "for key in my_dict:\n",
    "    print(f'Key: {key}, Type: {type(key)}, Value: {my_dict[key]}')\n",
    "\n",
    "# Try to use a list as a key (this will raise an error)\n",
    "try:\n",
    "    invalid_dict = {[1, 2]: 'value'}\n",
    "except TypeError as e:\n",
    "    print(f'\\nError when using list as key: {e}')"
   ]
  },
  {
   "cell_type": "markdown",
   "id": "1b1a9f7f",
   "metadata": {},
   "source": [
    "## Accessing Dictionary Values\n",
    "\n",
    "In Python, there are several ways to access dictionary values:\n",
    "1. Using square bracket notation `[]`\n",
    "2. Using the `get()` method\n",
    "3. Using the `keys()`, `values()`, and `items()` methods\n",
    "4. Default values with `get()` or `setdefault()`"
   ]
  },
  {
   "cell_type": "code",
   "execution_count": null,
   "id": "5bfe8b94",
   "metadata": {},
   "outputs": [],
   "source": [
    "# Create a sample dictionary\n",
    "student = {\n",
    "    'name': 'John',\n",
    "    'age': 20,\n",
    "    'grades': {'math': 90, 'english': 85}\n",
    "}\n",
    "\n",
    "# 1. Square bracket notation\n",
    "print('Using square brackets:')\n",
    "print(f\"Name: {student['name']}\")\n",
    "\n",
    "# 2. get() method (safer as it doesn't raise KeyError)\n",
    "print('\\nUsing get():')\n",
    "print(f\"Age: {student.get('age')}\")\n",
    "print(f\"Address: {student.get('address', 'Not provided')}\")\n",
    "\n",
    "# 3. Dictionary methods\n",
    "print('\\nUsing dictionary methods:')\n",
    "print('Keys:', list(student.keys()))\n",
    "print('Values:', list(student.values()))\n",
    "print('Items:', list(student.items()))\n",
    "\n",
    "# 4. Accessing nested values\n",
    "print('\\nAccessing nested values:')\n",
    "print(f\"Math grade: {student['grades']['math']}\")\n",
    "\n",
    "# 5. setdefault() method (gets value if exists, sets & returns default if not)\n",
    "print('\\nUsing setdefault():')\n",
    "email = student.setdefault('email', 'student@example.com')\n",
    "print(f\"Email: {email}\")\n",
    "print('Dictionary after setdefault:', student)  # Note that email was added"
   ]
  },
  {
   "cell_type": "code",
   "execution_count": 11,
   "id": "87218a1b",
   "metadata": {},
   "outputs": [
    {
     "name": "stdout",
     "output_type": "stream",
     "text": [
      "[6, 8, 10, 12, 14]\n"
     ]
    }
   ],
   "source": [
    "numbers = [1, 2, 3, 4, 5, 6, 7, 8, 9, 10, 11, 12, 13, 14, 15]\n",
    "even_and_greater_than_5 = list(filter(lambda x: \n",
    "                                      x % 2 == 0 and x > 5,\n",
    "                                      numbers))\n",
    "print(even_and_greater_than_5)"
   ]
  },
  {
   "cell_type": "code",
   "execution_count": 13,
   "id": "80485201",
   "metadata": {},
   "outputs": [
    {
     "ename": "ModuleNotFoundError",
     "evalue": "No module named 'package'",
     "output_type": "error",
     "traceback": [
      "\u001b[31m---------------------------------------------------------------------------\u001b[39m",
      "\u001b[31mModuleNotFoundError\u001b[39m                       Traceback (most recent call last)",
      "\u001b[36mCell\u001b[39m\u001b[36m \u001b[39m\u001b[32mIn[13]\u001b[39m\u001b[32m, line 1\u001b[39m\n\u001b[32m----> \u001b[39m\u001b[32m1\u001b[39m \u001b[38;5;28;01mfrom\u001b[39;00m\u001b[38;5;250m \u001b[39m\u001b[34;01mpackage\u001b[39;00m\u001b[34;01m.\u001b[39;00m\u001b[34;01msubpackage\u001b[39;00m\u001b[34;01m.\u001b[39;00m\u001b[34;01mfunctions\u001b[39;00m\u001b[38;5;250m \u001b[39m\u001b[38;5;28;01mimport\u001b[39;00m *\n\u001b[32m      3\u001b[39m hello_world()\n",
      "\u001b[31mModuleNotFoundError\u001b[39m: No module named 'package'"
     ]
    }
   ],
   "source": [
    "from package.subpackage.functions import *\n",
    "\n",
    "hello_world()"
   ]
  },
  {
   "cell_type": "code",
   "execution_count": null,
   "id": "3c11fdcb",
   "metadata": {},
   "outputs": [],
   "source": []
  }
 ],
 "metadata": {
  "kernelspec": {
   "display_name": "Python 3",
   "language": "python",
   "name": "python3"
  },
  "language_info": {
   "codemirror_mode": {
    "name": "ipython",
    "version": 3
   },
   "file_extension": ".py",
   "mimetype": "text/x-python",
   "name": "python",
   "nbconvert_exporter": "python",
   "pygments_lexer": "ipython3",
   "version": "3.13.0"
  }
 },
 "nbformat": 4,
 "nbformat_minor": 5
}
