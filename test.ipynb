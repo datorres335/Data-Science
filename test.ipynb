{
 "cells": [
  {
   "cell_type": "code",
   "execution_count": 1,
   "id": "8b71d6c1",
   "metadata": {},
   "outputs": [
    {
     "data": {
      "text/plain": [
       "\"Hello from the subpackage! Yea that's right!\""
      ]
     },
     "execution_count": 1,
     "metadata": {},
     "output_type": "execute_result"
    }
   ],
   "source": [
    "from package.subpackage.functions import *\n",
    "\n",
    "hello_world()"
   ]
  },
  {
   "cell_type": "code",
   "execution_count": 6,
   "id": "55613199",
   "metadata": {},
   "outputs": [
    {
     "name": "stdout",
     "output_type": "stream",
     "text": [
      "Result: 10.0\n",
      "This block always executes, regardless of exceptions.\n"
     ]
    }
   ],
   "source": [
    "# Example of a try-except (try-catch) statement in Python\n",
    "try:\n",
    "    number = int(input('Enter a number: '))\n",
    "    result = 10 / number\n",
    "    print(f'Result: {result}')\n",
    "except ValueError:\n",
    "    print('You must enter a valid integer!')\n",
    "except ZeroDivisionError as e:\n",
    "    print('Cannot divide by zero!')\n",
    "    print(f'Error: {e}')\n",
    "except: # Catching all other exceptions\n",
    "    print(f'An unexpected error occurred')\n",
    "finally:\n",
    "    print('This block always executes, regardless of exceptions.')"
   ]
  },
  {
   "cell_type": "code",
   "execution_count": null,
   "id": "73d668a6",
   "metadata": {},
   "outputs": [],
   "source": [
    "# Example of a simple Python class\n",
    "class Person:\n",
    "    def __init__(self, name, age):\n",
    "        self.name = name\n",
    "        self.age = age\n",
    "    \n",
    "    def greet(self):\n",
    "        print(f\"Hello, my name is {self.name} and I am {self.age} years old.\")\n",
    "\n",
    "# Create an instance and call the method\n",
    "person1 = Person('Alice', 30)\n",
    "person1.greet()"
   ]
  },
  {
   "cell_type": "code",
   "execution_count": null,
   "id": "1acc1eff",
   "metadata": {},
   "outputs": [],
   "source": [
    "# Example of a class inheriting from Person\n",
    "class Student(Person):\n",
    "    def __init__(self, name, age, student_id):\n",
    "        super().__init__(name, age)\n",
    "        self.student_id = student_id\n",
    "    \n",
    "    def display(self):\n",
    "        print(f\"Student ID: {self.student_id}\")\n",
    "        self.greet()\n",
    "\n",
    "# Create an instance and call its methods\n",
    "student1 = Student('Bob', 22, 'S12345')\n",
    "student1.display()"
   ]
  },
  {
   "cell_type": "code",
   "execution_count": null,
   "id": "771fadad",
   "metadata": {},
   "outputs": [],
   "source": [
    "# Example of multiple inheritance in Python\n",
    "class Worker:\n",
    "    def __init__(self, job_title):\n",
    "        self.job_title = job_title\n",
    "    \n",
    "    def work(self):\n",
    "        print(f\"I am working as a {self.job_title}.\")\n",
    "\n",
    "class StudentWorker(Person, Worker):\n",
    "    def __init__(self, name, age, job_title, student_id):\n",
    "        Person.__init__(self, name, age)\n",
    "        Worker.__init__(self, job_title)\n",
    "        self.student_id = student_id\n",
    "    \n",
    "    def introduce(self):\n",
    "        print(f\"Hi, I'm {self.name}, age {self.age}, student ID {self.student_id}.\")\n",
    "        self.work()\n",
    "\n",
    "# Create an instance and call its methods\n",
    "sw = StudentWorker('Charlie', 21, 'Library Assistant', 'S54321')\n",
    "sw.introduce()"
   ]
  },
  {
   "cell_type": "code",
   "execution_count": 7,
   "id": "f18553eb",
   "metadata": {},
   "outputs": [
    {
     "name": "stdout",
     "output_type": "stream",
     "text": [
      "Owner: Dana\n",
      "Account Type (protected): Checking\n",
      "Balance: 1500\n"
     ]
    }
   ],
   "source": [
    "# Example of a class with private and protected variables in Python\n",
    "class BankAccount:\n",
    "    def __init__(self, owner, balance):\n",
    "        self.owner = owner\n",
    "        self._account_type = 'Checking'  # Protected variable (single underscore)\n",
    "        self.__balance = balance  # Private variable (name mangling, aka double underscore)\n",
    "    \n",
    "    def deposit(self, amount):\n",
    "        if amount > 0:\n",
    "            self.__balance += amount\n",
    "    \n",
    "    def get_balance(self):\n",
    "        return self.__balance\n",
    "\n",
    "# Create an instance and interact with private and protected variables\n",
    "account = BankAccount('Dana', 1000)\n",
    "account.deposit(500)\n",
    "print(f\"Owner: {account.owner}\")\n",
    "print(f\"Account Type (protected): {account._account_type}\")  # Accessing protected variable\n",
    "print(f\"Balance: {account.get_balance()}\")\n",
    "# Trying to access account.__balance directly will raise an AttributeError"
   ]
  },
  {
   "cell_type": "markdown",
   "id": "77025ab8",
   "metadata": {},
   "source": [
    "# Magic Methods in Python\n",
    "Magic methods in Python, also known as dunder methods (double underscore methods), are special methods that start and end with double underscores. These methods enbalbe you to define the behavior of objects for built-in operations, such as arithemtic operations, comparisons, and more.\n",
    "Magic methods are predefined methods in Python that you can override to change the behavior of your oebjects. Some common magic methods include:"
   ]
  },
  {
   "cell_type": "code",
   "execution_count": 8,
   "id": "e75c6943",
   "metadata": {},
   "outputs": [
    {
     "data": {
      "text/plain": [
       "'\\n__init__: Initializes a new instance of a class\\n__str__: Reterns a string representation of an object\\n__repr__: Returns an official string representation of an object\\n__len__: Returns the length of an object\\n__getitem__: Gets an item from a container\\n__setitem__: Sets an item in a acontainer\\n'"
      ]
     },
     "execution_count": 8,
     "metadata": {},
     "output_type": "execute_result"
    }
   ],
   "source": [
    "'''\n",
    "__init__: Initializes a new instance of a class\n",
    "__str__: Reterns a string representation of an object\n",
    "__repr__: Returns an official string representation of an object\n",
    "__len__: Returns the length of an object\n",
    "__getitem__: Gets an item from a container\n",
    "__setitem__: Sets an item in a acontainer\n",
    "'''"
   ]
  },
  {
   "cell_type": "code",
   "execution_count": null,
   "id": "e7f85b3b",
   "metadata": {},
   "outputs": [],
   "source": [
    "# Common Operator Overloading Magic Methods\n",
    "\n",
    "'''\n",
    "__add__(self, other): Adds two objects using the + operator\n",
    "__sub__(self, other): Subtracts two objects using the - operator\n",
    "__mul__(self, other): Multiplies two objects using the * operator\n",
    "__truediv__(self, other): Divides two objects using the / operator\n",
    "__eq__(self, other): Checks if two objects are equal using the == operator\n",
    "__lt__(self, other): Checks if one object is less than another using the < operator\n",
    "__gt__(self, other): Checks if one object is greater than another using the > operator\n",
    "__le__(self, other): Checks if one object is less than or equal to another using the <= operator\n",
    "__ge__(self, other): Checks if one object is greater than or equal to another using the >= operator\n",
    "__ne__(self, other): Checks if two objects are not equal using the != operator\n",
    "'''"
   ]
  },
  {
   "cell_type": "code",
   "execution_count": null,
   "id": "819cedfa",
   "metadata": {},
   "outputs": [],
   "source": [
    "class Vector:\n",
    "  def __init__(self, x, y):\n",
    "    self.x = x\n",
    "    self.y = y\n",
    "\n",
    "  def __add__(self, other):\n",
    "    return Vector(self.x + other.x, self.y + other.y)\n",
    "  \n",
    "  def __sub__(self, other):\n",
    "    return Vector(self.x - other.x, self.y - other.y)\n",
    "  \n",
    "  def __mul__(self, scalar):\n",
    "    return Vector(self.x * scalar, self.y * scalar)\n",
    "  \n",
    "  def __truediv__(self, scalar):\n",
    "    if scalar != 0:\n",
    "      return Vector(self.x / scalar, self.y / scalar)\n",
    "    else:\n",
    "      raise ValueError(\"Cannot divide by zero\")\n",
    "    \n",
    "  def __eq__(self, other):\n",
    "    return self.x == other.x and self.y == other.y\n",
    "  \n",
    "  def __repr__(self):\n",
    "    return f\"Vector({self.x}, {self.y})\""
   ]
  },
  {
   "cell_type": "markdown",
   "id": "cc8f390a",
   "metadata": {},
   "source": [
    "# Iterators\n",
    "Iterators are advanced Python concepts that allow for efficient looping and memory management. Iterators provide a way to access elements of a collection sequientially without exposing the undelying structure"
   ]
  },
  {
   "cell_type": "code",
   "execution_count": 2,
   "id": "a5f26606",
   "metadata": {},
   "outputs": [
    {
     "name": "stdout",
     "output_type": "stream",
     "text": [
      "1\n",
      "2\n",
      "3\n",
      "4\n",
      "5\n",
      "6\n"
     ]
    }
   ],
   "source": [
    "my_list = [1,2,3,4,5,6]\n",
    "for i in my_list:\n",
    "    print(i)"
   ]
  },
  {
   "cell_type": "code",
   "execution_count": 3,
   "id": "3e4ec274",
   "metadata": {},
   "outputs": [],
   "source": [
    "# iterator\n",
    "iterator = iter(my_list)"
   ]
  },
  {
   "cell_type": "code",
   "execution_count": null,
   "id": "3250672c",
   "metadata": {},
   "outputs": [
    {
     "name": "stdout",
     "output_type": "stream",
     "text": [
      "No more elements in the iterator.\n"
     ]
    }
   ],
   "source": [
    "#iterator through all the elements\n",
    "try:\n",
    "  print(next(iterator))\n",
    "except StopIteration:\n",
    "  print(\"No more elements in the iterator.\")\n",
    "# everytime you call next, it will return the next element in the list\n",
    "# you must call next within a try-except block to handle StopIteration exception"
   ]
  },
  {
   "cell_type": "code",
   "execution_count": null,
   "id": "7f9b35e1",
   "metadata": {},
   "outputs": [],
   "source": []
  }
 ],
 "metadata": {
  "kernelspec": {
   "display_name": "Python 3",
   "language": "python",
   "name": "python3"
  },
  "language_info": {
   "codemirror_mode": {
    "name": "ipython",
    "version": 3
   },
   "file_extension": ".py",
   "mimetype": "text/x-python",
   "name": "python",
   "nbconvert_exporter": "python",
   "pygments_lexer": "ipython3",
   "version": "3.13.0"
  }
 },
 "nbformat": 4,
 "nbformat_minor": 5
}
