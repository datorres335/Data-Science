{
 "cells": [
  {
   "cell_type": "markdown",
   "id": "907f5cbd",
   "metadata": {},
   "source": [
    "# NumPy\n",
    "NumPy is a fundamental library for scientific computing in Python. It provides support for arrays and matrices, along with a colleciton of mathematical functions to operate on these data structures. In this lesson, we will cover the basics of NumPy, focusing on arrays and vectorized operations."
   ]
  },
  {
   "cell_type": "code",
   "execution_count": 2,
   "id": "a3b25cb3",
   "metadata": {},
   "outputs": [
    {
     "name": "stdout",
     "output_type": "stream",
     "text": [
      "Numpy array: [1 2 3 4 5]\n",
      "Type of arr1np: <class 'numpy.ndarray'>\n"
     ]
    }
   ],
   "source": [
    "import numpy as np\n",
    "\n",
    "# creating arrays using numpy\n",
    "arr1np = np.array([1, 2, 3, 4, 5])\n",
    "print(\"Numpy array:\", arr1np)\n",
    "print(\"Type of arr1np:\", type(arr1np))"
   ]
  },
  {
   "cell_type": "code",
   "execution_count": 3,
   "id": "884504f2",
   "metadata": {},
   "outputs": [
    {
     "data": {
      "text/plain": [
       "array([[1., 1., 1.],\n",
       "       [1., 1., 1.],\n",
       "       [1., 1., 1.]])"
      ]
     },
     "execution_count": 3,
     "metadata": {},
     "output_type": "execute_result"
    }
   ],
   "source": [
    "np.ones((3, 3))  # creates a 3x3 array filled with ones"
   ]
  },
  {
   "cell_type": "code",
   "execution_count": 4,
   "id": "1dc917c5",
   "metadata": {},
   "outputs": [
    {
     "data": {
      "text/plain": [
       "array([[1., 0., 0.],\n",
       "       [0., 1., 0.],\n",
       "       [0., 0., 1.]])"
      ]
     },
     "execution_count": 4,
     "metadata": {},
     "output_type": "execute_result"
    }
   ],
   "source": [
    "# Identity matrix\n",
    "np.eye(3)  # creates a 3x3 identity matrix"
   ]
  },
  {
   "cell_type": "code",
   "execution_count": 7,
   "id": "d1188b9a",
   "metadata": {},
   "outputs": [
    {
     "name": "stdout",
     "output_type": "stream",
     "text": [
      "Array:\n",
      " [[1 2 3]\n",
      " [4 5 6]]\n",
      "Array shape: (2, 3)\n",
      "Array size: 6\n",
      "Array data type (may vary on platform): int64\n",
      "Array itemsize (in bytes): 8\n",
      "Number of dimensions: 2\n"
     ]
    }
   ],
   "source": [
    "# Attributes of Numpy arrays\n",
    "arr = np.array([[1, 2, 3], [4, 5, 6]])\n",
    "\n",
    "print(\"Array:\\n\", arr)\n",
    "print(\"Array shape:\", arr.shape)  # prints the shape of the array\n",
    "print(\"Array size:\", arr.size)    # prints the total number of elements in the array\n",
    "print(\"Array data type (may vary on platform):\", arr.dtype)  # prints the data type of the array elements\n",
    "print(\"Array itemsize (in bytes):\", arr.itemsize)  # prints the size in bytes of each element in the array\n",
    "print(\"Number of dimensions:\", arr.ndim)  # prints the number of dimensions of the array"
   ]
  },
  {
   "cell_type": "code",
   "execution_count": 8,
   "id": "1ec5b2a1",
   "metadata": {},
   "outputs": [
    {
     "name": "stdout",
     "output_type": "stream",
     "text": [
      "Element-wise addition: [11 22 33 44 55]\n",
      "Element-wise subtraction: [ -9 -18 -27 -36 -45]\n",
      "Element-wise multiplication: [ 10  40  90 160 250]\n",
      "Element-wise division: [0.1 0.1 0.1 0.1 0.1]\n"
     ]
    }
   ],
   "source": [
    "# Numpy Vectorized Operations\n",
    "arr1 = np.array([1, 2, 3, 4, 5])\n",
    "arr2 = np.array([10, 20, 30, 40, 50])\n",
    "arr3 = arr1 + arr2  # element-wise addition\n",
    "print(\"Element-wise addition:\", arr3)\n",
    "arr4 = arr1 - arr2  # element-wise subtraction\n",
    "print(\"Element-wise subtraction:\", arr4)\n",
    "arr5 = arr1 * arr2  # element-wise multiplication\n",
    "print(\"Element-wise multiplication:\", arr5)\n",
    "arr6 = arr1 / arr2  # element-wise division\n",
    "print(\"Element-wise division:\", arr6)"
   ]
  },
  {
   "cell_type": "code",
   "execution_count": 12,
   "id": "fb54c434",
   "metadata": {},
   "outputs": [
    {
     "name": "stdout",
     "output_type": "stream",
     "text": [
      "Original array: [1 2 3 4 5 6]\n",
      "Square root of arr: [1.         1.41421356 1.73205081 2.         2.23606798 2.44948974]\n",
      "Exponential of arr (e^x): [  2.71828183   7.3890561   20.08553692  54.59815003 148.4131591\n",
      " 403.42879349]\n",
      "Logarithm of arr: [0.         0.69314718 1.09861229 1.38629436 1.60943791 1.79175947]\n",
      "Sine of arr: [ 0.84147098  0.90929743  0.14112001 -0.7568025  -0.95892427 -0.2794155 ]\n",
      "Rounded arr: [1 2 3 4 5 6]\n"
     ]
    }
   ],
   "source": [
    "# Universal Functions (ufuncs)\n",
    "# What are ufuncs?\n",
    "# Universal functions (ufuncs) are functions that operate element-wise on arrays.\n",
    "# They are optimized for performance and can handle broadcasting.\n",
    "\n",
    "arr = np.array([1,2,3,4,5,6])\n",
    "print(\"Original array:\", arr)\n",
    "# square root\n",
    "arr_sqrt = np.sqrt(arr)\n",
    "print(\"Square root of arr:\", arr_sqrt)\n",
    "# exponential\n",
    "arr_exp = np.exp(arr)\n",
    "print(\"Exponential of arr (e^x):\", arr_exp)\n",
    "# logarithm\n",
    "arr_log = np.log(arr)\n",
    "print(\"Logarithm of arr:\", arr_log)\n",
    "# trigonometric functions\n",
    "arr_sin = np.sin(arr)\n",
    "print(\"Sine of arr:\", arr_sin)\n",
    "# rounding functions\n",
    "arr_round = np.round(arr, 2)  # rounding to 2 decimal places\n",
    "print(\"Rounded arr:\", arr_round)"
   ]
  },
  {
   "cell_type": "code",
   "execution_count": 22,
   "id": "8b9c731a",
   "metadata": {},
   "outputs": [
    {
     "name": "stdout",
     "output_type": "stream",
     "text": [
      "Original array:\n",
      " [[ 1  2  3  4]\n",
      " [ 5  6  7  8]\n",
      " [ 9 10 11 12]]\n",
      "Element at (0, 0): 1\n",
      "First row: [1 2 3 4]\n",
      "First column: [1 5 9]\n",
      "Sub-array (first 2 rows, first 2 columns):\n",
      " [[1 2]\n",
      " [5 6]]\n",
      "Sub-array (last 2 rows, last 2 columns):\n",
      " [[ 7  8]\n",
      " [11 12]]\n",
      "Sub-array (center bottom 2x2):\n",
      " [[ 6  7]\n",
      " [10 11]]\n"
     ]
    }
   ],
   "source": [
    "# Array Slicing and Indexing\n",
    "arr = np.array([[1,2,3,4],[5,6,7,8],[9,10,11,12]])\n",
    "print(\"Original array:\\n\", arr)\n",
    "\n",
    "# accessing a specific element\n",
    "print(\"Element at (0, 0):\", arr[0, 0])  # accessing element at row 1, column 2 #can also be accessed as arr[0][0]\n",
    "\n",
    "# slicing a row\n",
    "print(\"First row:\", arr[0, :])  # accessing the first row\n",
    "\n",
    "# slicing a column\n",
    "print(\"First column:\", arr[:, 0])  # accessing the first column\n",
    "# slicing a sub-array\n",
    "print(\"Sub-array (first 2 rows, first 2 columns):\\n\", arr[:2, :2])  # accessing a sub-array\n",
    "print(\"Sub-array (last 2 rows, last 2 columns):\\n\", arr[1:, 2:])  # accessing a sub-array \n",
    "\n",
    "print(\"Sub-array (center bottom 2x2):\\n\", arr[1:, 1:3])"
   ]
  },
  {
   "cell_type": "code",
   "execution_count": 23,
   "id": "59ec99ea",
   "metadata": {},
   "outputs": [
    {
     "name": "stdout",
     "output_type": "stream",
     "text": [
      "Modified array:\n",
      " [[ 1  2  3  4]\n",
      " [ 5  0  0  8]\n",
      " [ 9  0  0 12]]\n"
     ]
    }
   ],
   "source": [
    "# Modifying multiple elements\n",
    "arr[1:, 1:3] = 0  # setting the center bottom 2x2 sub-array to zero\n",
    "print(\"Modified array:\\n\", arr)"
   ]
  },
  {
   "cell_type": "code",
   "execution_count": 25,
   "id": "ea548ac4",
   "metadata": {},
   "outputs": [
    {
     "name": "stdout",
     "output_type": "stream",
     "text": [
      "Array after modifying last 2 rows:\n",
      " [[  1   2   3   4]\n",
      " [777 777 777 777]\n",
      " [777 777 777 777]]\n"
     ]
    }
   ],
   "source": [
    "# Modifying the last 2 rows in our array\n",
    "arr[1:] = 777\n",
    "print(\"Array after modifying last 2 rows:\\n\", arr)"
   ]
  },
  {
   "cell_type": "markdown",
   "id": "2ff00982",
   "metadata": {},
   "source": [
    "# Practical Examples"
   ]
  },
  {
   "cell_type": "code",
   "execution_count": 26,
   "id": "75adc66f",
   "metadata": {},
   "outputs": [
    {
     "name": "stdout",
     "output_type": "stream",
     "text": [
      "Original data: [1 2 3 4 5]\n",
      "Normalized data: [-1.41421356 -0.70710678  0.          0.70710678  1.41421356]\n"
     ]
    }
   ],
   "source": [
    "# Statistical Concepts - Normalization\n",
    "# need to change data to have a mean of 0 and a standard deviation of 1\n",
    "data = np.array([1, 2, 3, 4, 5])\n",
    "mean = np.mean(data)\n",
    "std_dev = np.std(data)\n",
    "normalized_data = (data - mean) / std_dev\n",
    "print(\"Original data:\", data)\n",
    "print(\"Normalized data:\", normalized_data)"
   ]
  },
  {
   "cell_type": "code",
   "execution_count": 27,
   "id": "cba233ef",
   "metadata": {},
   "outputs": [
    {
     "name": "stdout",
     "output_type": "stream",
     "text": [
      "Original data:\n",
      " [[1500    3]\n",
      " [2500    4]\n",
      " [ 800    2]\n",
      " [1200    2]\n",
      " [2000    3]]\n",
      "\n",
      "Normalized data:\n",
      " [[-0.16760038  0.26726124]\n",
      " [ 1.50840343  1.60356745]\n",
      " [-1.34080305 -1.06904497]\n",
      " [-0.67040152 -1.06904497]\n",
      " [ 0.67040152  0.26726124]]\n"
     ]
    }
   ],
   "source": [
    "# Real-life example: Why normalize data?\n",
    "# Suppose you are building a machine learning model to predict house prices.\n",
    "# Your dataset includes features like 'square footage' (ranging from hundreds to thousands)\n",
    "# and 'number of bedrooms' (ranging from 1 to 5).\n",
    "# If you do not normalize, 'square footage' will dominate the model because of its larger scale.\n",
    "# Normalization ensures all features contribute equally to the model.\n",
    "\n",
    "import numpy as np\n",
    "\n",
    "# Example data: [square footage, number of bedrooms]\n",
    "houses = np.array([\n",
    "    [1500, 3],\n",
    "    [2500, 4],\n",
    "    [800, 2],\n",
    "    [1200, 2],\n",
    "    [2000, 3]\n",
    "])\n",
    "\n",
    "# Normalize each feature (column)\n",
    "mean = np.mean(houses, axis=0)\n",
    "std = np.std(houses, axis=0)\n",
    "houses_normalized = (houses - mean) / std\n",
    "\n",
    "print(\"Original data:\\n\", houses)\n",
    "print(\"\\nNormalized data:\\n\", houses_normalized)\n",
    "\n",
    "# Now both features have mean 0 and std 1, so the model treats them fairly."
   ]
  },
  {
   "cell_type": "markdown",
   "id": "27bab089",
   "metadata": {},
   "source": [
    "When we say \"'square footage' will dominate the model because of its larger scale,\" we mean that if you have features (columns) in your data with very different ranges, the feature with the largest numbers (like square footage, which might be in the thousands) will have a much bigger influence on the model's calculations than features with smaller numbers (like number of bedrooms, which might be between 1 and 5).\n",
    "\n",
    "This is not always desirable, especially for many machine learning algorithms (like linear regression, k-nearest neighbors, or neural networks) that use distance or gradient calculations. These algorithms are sensitive to the scale of the input features. If you don't normalize, the model might \"pay more attention\" to square footage simply because its values are numerically larger, not necessarily because it's more important for predicting the outcome.\n",
    "\n",
    "However, the true importance of a feature should be learned from the data, not just from its scale. Normalization puts all features on the same scale, so the model can learn the real relationship between each feature and the target variable, rather than being biased by the units or magnitude of the numbers.\n",
    "\n",
    "In summary:\n",
    "\n",
    "We normalize so that all features contribute fairly to the model, regardless of their original scale.\n",
    "This helps the model learn which features are actually important, rather than just focusing on those with larger numbers"
   ]
  },
  {
   "cell_type": "code",
   "execution_count": null,
   "id": "ca980340",
   "metadata": {},
   "outputs": [],
   "source": []
  },
  {
   "cell_type": "code",
   "execution_count": null,
   "id": "2a8d8119",
   "metadata": {},
   "outputs": [],
   "source": []
  },
  {
   "cell_type": "code",
   "execution_count": null,
   "id": "1a5f2b0d",
   "metadata": {},
   "outputs": [],
   "source": []
  },
  {
   "cell_type": "code",
   "execution_count": null,
   "id": "b3daeffe",
   "metadata": {},
   "outputs": [],
   "source": []
  },
  {
   "cell_type": "code",
   "execution_count": null,
   "id": "ef00bc57",
   "metadata": {},
   "outputs": [],
   "source": []
  }
 ],
 "metadata": {
  "kernelspec": {
   "display_name": "Python 3",
   "language": "python",
   "name": "python3"
  },
  "language_info": {
   "codemirror_mode": {
    "name": "ipython",
    "version": 3
   },
   "file_extension": ".py",
   "mimetype": "text/x-python",
   "name": "python",
   "nbconvert_exporter": "python",
   "pygments_lexer": "ipython3",
   "version": "3.12.0"
  }
 },
 "nbformat": 4,
 "nbformat_minor": 5
}
